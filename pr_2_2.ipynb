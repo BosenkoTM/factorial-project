{
 "cells": [
  {
   "cell_type": "code",
   "execution_count": 1,
   "id": "7a62786d-24ae-45da-a115-b581bc784a04",
   "metadata": {
    "scrolled": true
   },
   "outputs": [
    {
     "name": "stdout",
     "output_type": "stream",
     "text": [
      "Факториал 0 равен 1\n",
      "Факториал 1 равен 1\n",
      "Факториал 2 равен 2\n",
      "Факториал 3 равен 6\n",
      "Факториал 4 равен 24\n"
     ]
    },
    {
     "name": "stdin",
     "output_type": "stream",
     "text": [
      "Введите число для вычисления факториала:  6\n"
     ]
    },
    {
     "name": "stdout",
     "output_type": "stream",
     "text": [
      "Факториал 6 равен 720\n"
     ]
    }
   ],
   "source": [
    "   # Этот проект демонстрирует простую функцию для вычисления факториала\n",
    "   # и включает как автоматическое тестирование, так и интерактивный ввод.\n",
    "\n",
    "   def factorial(n):\n",
    "       if n == 0 or n == 1:\n",
    "           return 1\n",
    "       else:\n",
    "           return n * factorial(n-1)\n",
    "\n",
    "   # Проверка функции\n",
    "   for i in range(5):\n",
    "       print(f\"Факториал {i} равен {factorial(i)}\")\n",
    "\n",
    "   # Интерактивный ввод\n",
    "   number = int(input(\"Введите число для вычисления факториала: \"))\n",
    "   print(f\"Факториал {number} равен {factorial(number)}\")\n"
   ]
  },
  {
   "cell_type": "code",
   "execution_count": 2,
   "id": "55b568ef-285e-48b8-bb73-973244c0e445",
   "metadata": {},
   "outputs": [
    {
     "name": "stdout",
     "output_type": "stream",
     "text": [
      "120\n",
      "Факториал отрицательного числа не определен\n"
     ]
    }
   ],
   "source": [
    "def factorial(n):\n",
    "    if n < 0:\n",
    "        raise ValueError(\"Факториал отрицательного числа не определен\")\n",
    "    elif n == 0 or n == 1:\n",
    "        return 1\n",
    "    else:\n",
    "        return n * factorial(n-1)\n",
    "\n",
    "# Пример использования\n",
    "print(factorial(5))\n",
    "try:\n",
    "    print(factorial(-1))\n",
    "except ValueError as e:\n",
    "    print(e)"
   ]
  },
  {
   "cell_type": "code",
   "execution_count": null,
   "id": "2a0103bb-c8a6-4d57-807c-d28ec07eaa65",
   "metadata": {},
   "outputs": [],
   "source": []
  }
 ],
 "metadata": {
  "kernelspec": {
   "display_name": "Python 3 (ipykernel)",
   "language": "python",
   "name": "python3"
  },
  "language_info": {
   "codemirror_mode": {
    "name": "ipython",
    "version": 3
   },
   "file_extension": ".py",
   "mimetype": "text/x-python",
   "name": "python",
   "nbconvert_exporter": "python",
   "pygments_lexer": "ipython3",
   "version": "3.12.5"
  }
 },
 "nbformat": 4,
 "nbformat_minor": 5
}
